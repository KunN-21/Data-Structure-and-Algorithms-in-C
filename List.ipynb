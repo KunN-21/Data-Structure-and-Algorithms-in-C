{
 "cells": [
  {
   "attachments": {},
   "cell_type": "markdown",
   "metadata": {},
   "source": [
    "# ***Kiểu dữ liệu List trong Python***\n",
    "***"
   ]
  },
  {
   "attachments": {},
   "cell_type": "markdown",
   "metadata": {},
   "source": [
    "### **Giới Thiệu:**"
   ]
  },
  {
   "attachments": {},
   "cell_type": "markdown",
   "metadata": {},
   "source": [
    "##### *Chắc hẳn ai cũng đã quen với 1 kiểu dữ liệu làm mn xỉu up xỉu down khi bắt đầu học nó trong môn nlnnlt ở HK1 rồi ha, đó chính là **Array**.*\n",
    "##### *Và nó là 1 kiểu dữ liệu rất quan trọng mà hầu hết tất cả các ngôn ngữ lập trình nhất định phải có, tuy nhiên trong ngôn ngữ Python thì lại không hỗ trợ trực tiếp **Array**, mà thay vào đó nó có 1 người ae, cùng cha khác ông nội với **Array** tên là **\"List\"**.*\n",
    "##### *Và trong bài, này ta sẽ đi tìm hiểu về **List**.*"
   ]
  },
  {
   "attachments": {},
   "cell_type": "markdown",
   "metadata": {},
   "source": [
    "***\n",
    "### **Khởi tạo:**"
   ]
  },
  {
   "cell_type": "code",
   "execution_count": 1,
   "metadata": {},
   "outputs": [
    {
     "name": "stdout",
     "output_type": "stream",
     "text": [
      "<class 'list'>\n"
     ]
    }
   ],
   "source": [
    "LS = []     #Khởi tạo 1 List rỗng bằng cách thủ công\n",
    "LS = list() #Hoặc có thể tạo bằng hàm list()\n",
    "print(type(LS)) # Xuất kiểu dữ liệu của LS ra màn hình"
   ]
  },
  {
   "attachments": {},
   "cell_type": "markdown",
   "metadata": {},
   "source": [
    "##### *Tạo 1 kiểu dữ liệu List với tên là LS. Ta có thể thấy kiểu dữ liệu được xuất ra màn hình là **list**.*\n",
    "##### *Ta thấy rằng đối với List ta **không cần quy định trước kiểu dữ liệu** của các phần tử bên trong nó, và ta cũng **không cần quy định size** cho List.*"
   ]
  },
  {
   "attachments": {},
   "cell_type": "markdown",
   "metadata": {},
   "source": [
    "***\n",
    "### **Nhập giá trị:**"
   ]
  },
  {
   "cell_type": "code",
   "execution_count": 4,
   "metadata": {},
   "outputs": [
    {
     "name": "stdout",
     "output_type": "stream",
     "text": [
      "['value 1', 'value 2', 'value 3']\n"
     ]
    }
   ],
   "source": [
    "LS = [\"value 1\", \"value 2\", \"value 3\"]\n",
    "print(LS)"
   ]
  },
  {
   "attachments": {},
   "cell_type": "markdown",
   "metadata": {},
   "source": [
    "##### *Ở trên, ta đã dùng cách thủ công để thêm giá trị vào trong 1 List, các giá trị có thể là kiểu số nguyên (`int`), kiểu số thực (`float`), kiểu (`boolean`), kiểu chuỗi (`str`).*"
   ]
  },
  {
   "attachments": {},
   "cell_type": "markdown",
   "metadata": {},
   "source": [
    "##### **Đặc biệt:** *trong ngôn ngữ C, Array chỉ có thể chứa các phần tử có cùng 1 kiểu dữ liệu. Thì ở Python, List có thể chứa các phần tử với những kiểu dữ liệu khác nhau.*\n",
    "Ví dụ:\n"
   ]
  },
  {
   "cell_type": "code",
   "execution_count": 5,
   "metadata": {},
   "outputs": [
    {
     "name": "stdout",
     "output_type": "stream",
     "text": [
      "[1, 'value 2', True, False, 5.0]\n"
     ]
    }
   ],
   "source": [
    "LS = [1, \"value 2\", True, False, 5.0]\n",
    "print(LS)"
   ]
  },
  {
   "attachments": {},
   "cell_type": "markdown",
   "metadata": {},
   "source": [
    "***\n",
    "### **Đọc phần tử:**"
   ]
  },
  {
   "cell_type": "code",
   "execution_count": 6,
   "metadata": {},
   "outputs": [
    {
     "name": "stdout",
     "output_type": "stream",
     "text": [
      "[1, 2, 3, 4]\n"
     ]
    }
   ],
   "source": [
    "LS = [1,2,3,4]\n",
    "print(LS)"
   ]
  },
  {
   "attachments": {},
   "cell_type": "markdown",
   "metadata": {},
   "source": [
    "##### *Trong Python, khi ta muốn xem tất cả các phần tử của 1 List, ta chỉ cần sử dụng câu lệnh:*  \n",
    ">`print(`\\<Tên List\\>`)`\n",
    "*Chương trình sẽ xuất ra màn hình theo dạng* `[`value1`,`value2`,`...`]` "
   ]
  },
  {
   "attachments": {},
   "cell_type": "markdown",
   "metadata": {},
   "source": [
    "##### *Hoặc ta cũng có thể sử dụng **vòng lặp** để đọc và xem các phần tử có trong List. Ở phần này, nhóm quyết định sẽ sử dụng **vòng lặp for**:*"
   ]
  },
  {
   "cell_type": "code",
   "execution_count": 7,
   "metadata": {},
   "outputs": [
    {
     "name": "stdout",
     "output_type": "stream",
     "text": [
      "1\n",
      "2\n",
      "3\n",
      "4\n"
     ]
    }
   ],
   "source": [
    "for i in LS:\n",
    "    print(i)"
   ]
  },
  {
   "attachments": {},
   "cell_type": "markdown",
   "metadata": {},
   "source": [
    "***\n",
    "### **Thêm phần tử:**"
   ]
  },
  {
   "attachments": {},
   "cell_type": "markdown",
   "metadata": {},
   "source": [
    "##### ***Trong List ta có 2 cách để thêm phần tử:***\n",
    "* **Insert** (Thêm vào vị trí đầu tiên hoặc giữa List)\n",
    "* **Append** (Thêm vào sau cùng List)"
   ]
  },
  {
   "attachments": {},
   "cell_type": "markdown",
   "metadata": {},
   "source": [
    "##### *Cấu trúc của hàm* `Insert` : \n",
    "> \\<Tên List\\>`.insert(`\\<index\\>`,` \\<value\\>`)`"
   ]
  },
  {
   "cell_type": "code",
   "execution_count": 8,
   "metadata": {},
   "outputs": [
    {
     "name": "stdout",
     "output_type": "stream",
     "text": [
      "List sau khi chạy câu lệnh: [1, 2, 3, 4, 5]\n"
     ]
    }
   ],
   "source": [
    "LS = [1,2,4,5]\n",
    "\n",
    "LS.insert(2,3)  # Thêm 3 vào nơi có index là 2\n",
    "print(\"List sau khi chạy câu lệnh:\", LS)"
   ]
  },
  {
   "attachments": {},
   "cell_type": "markdown",
   "metadata": {},
   "source": [
    "##### *Cấu trúc của hàm* `Append` : \n",
    "> \\<Tên List\\>`.append(`\\<value\\>`)`"
   ]
  },
  {
   "cell_type": "code",
   "execution_count": 9,
   "metadata": {},
   "outputs": [
    {
     "name": "stdout",
     "output_type": "stream",
     "text": [
      "[1, 2, 3, 4, 5, 6]\n"
     ]
    }
   ],
   "source": [
    "LS.append(6) #Thêm 6 vào cuối List\n",
    "print(LS)"
   ]
  },
  {
   "attachments": {},
   "cell_type": "markdown",
   "metadata": {},
   "source": [
    "***\n",
    "### **Xóa phần tử:**"
   ]
  },
  {
   "attachments": {},
   "cell_type": "markdown",
   "metadata": {},
   "source": [
    "##### ***Trong List ta có 2 cách để xóa:***\n",
    "* **Remove** (Tìm và xóa phần tử theo giá trị được truyền vào)\n",
    "* **Pop, Del** (Tìm và xóa phần tử theo chỉ mục)"
   ]
  },
  {
   "attachments": {},
   "cell_type": "markdown",
   "metadata": {},
   "source": [
    "##### *Cấu trúc của hàm* `Remove` : \n",
    "> \\<Tên List\\>`.remove(`\\<value\\>`)`"
   ]
  },
  {
   "cell_type": "code",
   "execution_count": 10,
   "metadata": {},
   "outputs": [
    {
     "name": "stdout",
     "output_type": "stream",
     "text": [
      "List sau khi chạy câu lệnh: ['red', 'blue']\n"
     ]
    }
   ],
   "source": [
    "LS = [\"red\", \"green\", \"blue\"]\n",
    "LS.remove(\"green\")\n",
    "print(\"List sau khi chạy câu lệnh:\", LS)"
   ]
  },
  {
   "attachments": {},
   "cell_type": "markdown",
   "metadata": {},
   "source": [
    "##### *Cấu trúc của hàm* `Pop` : \n",
    "> \\<Tên List\\>`.pop(`\\<index\\>`)`\n",
    "##### **Lưu ý:** *Nếu ta không truyền vào hàm 1 index nào cả, hàm sẽ mặc định xóa vị trí cuối của List (index = -1)*."
   ]
  },
  {
   "cell_type": "code",
   "execution_count": 11,
   "metadata": {},
   "outputs": [
    {
     "name": "stdout",
     "output_type": "stream",
     "text": [
      "Giá trị tại nơi xóa: green\n",
      "List sau khi chạy câu lệnh: ['red', 'blue']\n"
     ]
    }
   ],
   "source": [
    "LS = [\"red\", \"green\", \"blue\"]\n",
    "valPop = LS.pop(1)\n",
    "print(\"Giá trị tại nơi xóa:\", valPop)\n",
    "print(\"List sau khi chạy câu lệnh:\", LS)"
   ]
  },
  {
   "attachments": {},
   "cell_type": "markdown",
   "metadata": {},
   "source": [
    "##### *Cấu trúc của hàm* `Del` : \n",
    "> `del` \\<Tên List\\>`[`\\<index\\>`]`"
   ]
  },
  {
   "cell_type": "code",
   "execution_count": 12,
   "metadata": {},
   "outputs": [
    {
     "name": "stdout",
     "output_type": "stream",
     "text": [
      "List sau khi chạy câu lệnh: ['red', 'green']\n"
     ]
    }
   ],
   "source": [
    "LS = [\"red\", \"green\", \"blue\"]\n",
    "del LS[2]\n",
    "print(\"List sau khi chạy câu lệnh:\", LS)"
   ]
  },
  {
   "attachments": {},
   "cell_type": "markdown",
   "metadata": {},
   "source": [
    "***\n",
    "### **Tìm phần tử:**"
   ]
  },
  {
   "attachments": {},
   "cell_type": "markdown",
   "metadata": {},
   "source": [
    "##### *Sử dụng hàm* `index()` :"
   ]
  },
  {
   "cell_type": "code",
   "execution_count": 13,
   "metadata": {},
   "outputs": [
    {
     "name": "stdout",
     "output_type": "stream",
     "text": [
      "Index của value \"c\" là: 2\n"
     ]
    }
   ],
   "source": [
    "LS = [\"a\", \"b\", \"c\", \"d\"]\n",
    "idx = LS.index(\"c\")\n",
    "print('Index của value \"c\" là:',idx)"
   ]
  },
  {
   "attachments": {},
   "cell_type": "markdown",
   "metadata": {},
   "source": [
    "##### *Trong Python, khi ta muốn tìm index của 1 phần tử ta có thể sử dụng hàm index với cấu trúc:* \n",
    "> \\<Tên List\\>.`index(`\\<value\\>`)`"
   ]
  },
  {
   "attachments": {},
   "cell_type": "markdown",
   "metadata": {},
   "source": [
    "##### *Nếu ta sử dụng truyền 1 value không tồn tại trong List vào hàm* `index` *thì sẽ xuất hiện lỗi*:\n",
    ">ValueError: 'e' is not in list"
   ]
  },
  {
   "cell_type": "code",
   "execution_count": 14,
   "metadata": {},
   "outputs": [
    {
     "ename": "ValueError",
     "evalue": "'e' is not in list",
     "output_type": "error",
     "traceback": [
      "\u001b[1;31m---------------------------------------------------------------------------\u001b[0m",
      "\u001b[1;31mValueError\u001b[0m                                Traceback (most recent call last)",
      "Cell \u001b[1;32mIn[14], line 2\u001b[0m\n\u001b[0;32m      1\u001b[0m LS \u001b[39m=\u001b[39m [\u001b[39m\"\u001b[39m\u001b[39ma\u001b[39m\u001b[39m\"\u001b[39m, \u001b[39m\"\u001b[39m\u001b[39mb\u001b[39m\u001b[39m\"\u001b[39m, \u001b[39m\"\u001b[39m\u001b[39mc\u001b[39m\u001b[39m\"\u001b[39m, \u001b[39m\"\u001b[39m\u001b[39md\u001b[39m\u001b[39m\"\u001b[39m]\n\u001b[1;32m----> 2\u001b[0m idx \u001b[39m=\u001b[39m LS\u001b[39m.\u001b[39;49mindex(\u001b[39m\"\u001b[39;49m\u001b[39me\u001b[39;49m\u001b[39m\"\u001b[39;49m)\n\u001b[0;32m      3\u001b[0m \u001b[39mprint\u001b[39m(\u001b[39m'\u001b[39m\u001b[39mIndex của value \u001b[39m\u001b[39m\"\u001b[39m\u001b[39me\u001b[39m\u001b[39m\"\u001b[39m\u001b[39m là:\u001b[39m\u001b[39m'\u001b[39m,idx)\n",
      "\u001b[1;31mValueError\u001b[0m: 'e' is not in list"
     ]
    }
   ],
   "source": [
    "LS = [\"a\", \"b\", \"c\", \"d\"]\n",
    "idx = LS.index(\"e\")\n",
    "print('Index của value \"e\" là:',idx)"
   ]
  },
  {
   "attachments": {},
   "cell_type": "markdown",
   "metadata": {},
   "source": [
    "##### *Sử dụng vòng lặp* `for` *và câu lệnh* `if` :"
   ]
  },
  {
   "cell_type": "code",
   "execution_count": 15,
   "metadata": {},
   "outputs": [
    {
     "name": "stdout",
     "output_type": "stream",
     "text": [
      "Có c trong List\n"
     ]
    }
   ],
   "source": [
    "LS = [\"a\", \"b\", \"c\", \"d\"]\n",
    "for i in LS:\n",
    "    if i == \"c\":\n",
    "        print(\"Có c trong List\")"
   ]
  },
  {
   "attachments": {},
   "cell_type": "markdown",
   "metadata": {},
   "source": [
    "##### *Như với Array ở C, ta cũng sẽ sử dụng `vòng lặp` và `câu lệnh if` để tìm xem có phần tử ta cần tìm ở trong List hay không.*\n",
    "#####  Ở ví dụ trên, nhóm quyết định sử dụng `vòng lặp for` và `1 câu lệnh if` để tìm phần tử có giá trị là `c` trong List có tên là `LS`."
   ]
  },
  {
   "attachments": {},
   "cell_type": "markdown",
   "metadata": {},
   "source": [
    "***\n",
    "### **Duyệt và sắp xếp các phần tử:**"
   ]
  },
  {
   "attachments": {},
   "cell_type": "markdown",
   "metadata": {},
   "source": [
    "#### ***Duyệt:**"
   ]
  },
  {
   "attachments": {},
   "cell_type": "markdown",
   "metadata": {},
   "source": [
    "##### ***Có 2 kiểu duyệt các phần tử trong List:***\n",
    "* Duyệt **xuôi**\n",
    "* Duyệt **ngược**"
   ]
  },
  {
   "attachments": {},
   "cell_type": "markdown",
   "metadata": {},
   "source": [
    "##### *Ta có thể duyệt xuôi List bằng câu lệnh `for-range` hoặc `for-in`:*"
   ]
  },
  {
   "cell_type": "code",
   "execution_count": 17,
   "metadata": {},
   "outputs": [
    {
     "name": "stdout",
     "output_type": "stream",
     "text": [
      "A\n",
      "2\n",
      "3\n",
      "4\n",
      "B\n"
     ]
    }
   ],
   "source": [
    "# Sử dụng for-range\n",
    "LS = [\"A\", 2, 3, 4, \"B\"]\n",
    "\n",
    "length = len(LS)\n",
    "for i in range(length):\n",
    "    print(LS[i])"
   ]
  },
  {
   "cell_type": "code",
   "execution_count": 63,
   "metadata": {},
   "outputs": [
    {
     "name": "stdout",
     "output_type": "stream",
     "text": [
      "A\n",
      "2\n",
      "3\n",
      "4\n",
      "B\n"
     ]
    }
   ],
   "source": [
    "#Sử dụng for-in\n",
    "LS = [\"A\", 2, 3, 4, \"B\"]\n",
    "\n",
    "for i in LS:\n",
    "    print(i)"
   ]
  },
  {
   "attachments": {},
   "cell_type": "markdown",
   "metadata": {},
   "source": [
    "##### *Ta có thể duyệt ngược List bằng `for-range`:*"
   ]
  },
  {
   "cell_type": "code",
   "execution_count": 18,
   "metadata": {},
   "outputs": [
    {
     "name": "stdout",
     "output_type": "stream",
     "text": [
      "B\n",
      "4\n",
      "3\n",
      "2\n",
      "A\n"
     ]
    }
   ],
   "source": [
    "LS = [\"A\", 2, 3, 4, \"B\"]    # max index = 4\n",
    "\n",
    "length = len(LS)            # lenght = 5 vì có 5 phần tử\n",
    "for i in range(length - 1, -1, -1):\n",
    "    print(LS[i])"
   ]
  },
  {
   "attachments": {},
   "cell_type": "markdown",
   "metadata": {},
   "source": [
    "#### ***Sắp xếp:**"
   ]
  },
  {
   "attachments": {},
   "cell_type": "markdown",
   "metadata": {},
   "source": [
    "##### ***Có 2 kiểu sắp xếp các phần tử trong List:***\n",
    "* Sắp xếp **tăng dần**\n",
    "* Sắp xếp **giảm dần**"
   ]
  },
  {
   "attachments": {},
   "cell_type": "markdown",
   "metadata": {},
   "source": [
    "##### *Sắp xếp theo kiểu tăng dần các phần tử, ta sử dụng hàm `sort()`, với cấu trúc của hàm như sau:*\n",
    "> \\<Tên List\\>`.sort()`"
   ]
  },
  {
   "cell_type": "code",
   "execution_count": 19,
   "metadata": {},
   "outputs": [
    {
     "name": "stdout",
     "output_type": "stream",
     "text": [
      "LS_int sau khi được sắp xếp: [0.5, 1, 2, 3, 4, 5, 6, 6.5]\n",
      "LS_str sau khi được sắp xếp: ['A', 'B', 'a', 'b', 'c', 'd', 'e']\n",
      "LS_boolean sau khi được sắp xếp: [False, True, True]\n"
     ]
    }
   ],
   "source": [
    "LS_num = [1, 4, 2, 6, 3, 5, 0.5, 6.5]\n",
    "LS_str = [\"c\", \"a\", \"d\", \"b\", \"e\", \"A\", \"B\"]\n",
    "LS_boolean = [True, False, True]    #Theo quy ước chung, False = 0 và True = 1 nên có thể so sánh được\n",
    "\n",
    "LS_num.sort()\n",
    "LS_str.sort()\n",
    "LS_boolean.sort()\n",
    "\n",
    "print(\"LS_int sau khi được sắp xếp:\", LS_num)\n",
    "print(\"LS_str sau khi được sắp xếp:\", LS_str)\n",
    "print(\"LS_boolean sau khi được sắp xếp:\", LS_boolean)"
   ]
  },
  {
   "attachments": {},
   "cell_type": "markdown",
   "metadata": {},
   "source": [
    "###### *Đối với kiểu **số nguyên, số thực và boolean**, hàm sort sẽ dùng **toán tử logic** để so sánh và sắp xếp các phần tử theo thứ tự tăng dần*\n",
    "###### *Đối với kiểu **chuỗi**, hàm sort sẽ dựa theo **bảng mã unicode** để so sánh và sắp xếp các phần tử theo thứ tự tăng dần*"
   ]
  },
  {
   "attachments": {},
   "cell_type": "markdown",
   "metadata": {},
   "source": [
    "##### *Sắp xếp theo kiểu giảm dần các phần tử, ta chỉ việc truyền tham số `reverse = True` vào trong hàm `sort()`:*\n",
    "> \\<Tên List\\>`.sort(reverse = True)`"
   ]
  },
  {
   "cell_type": "code",
   "execution_count": 20,
   "metadata": {},
   "outputs": [
    {
     "name": "stdout",
     "output_type": "stream",
     "text": [
      "LS_int sau khi được sắp xếp: [6.5, 6, 5, 4, 3, 2, 1, 0.5]\n",
      "LS_str sau khi được sắp xếp: ['e', 'd', 'c', 'b', 'a', 'B', 'A']\n",
      "LS_boolean sau khi được sắp xếp: [True, True, False]\n"
     ]
    }
   ],
   "source": [
    "LS_num = [1, 4, 2, 6, 3, 5, 0.5, 6.5]\n",
    "LS_str = [\"c\", \"a\", \"d\", \"b\", \"e\", \"A\", \"B\"]\n",
    "LS_boolean = [True, False, True]    #Theo quy ước chung, False = 0 và True = 1 nên có thể so sánh được\n",
    "\n",
    "LS_num.sort(reverse = True)\n",
    "LS_str.sort(reverse = True)\n",
    "LS_boolean.sort(reverse = True)\n",
    "\n",
    "print(\"LS_int sau khi được sắp xếp:\", LS_num)\n",
    "print(\"LS_str sau khi được sắp xếp:\", LS_str)\n",
    "print(\"LS_boolean sau khi được sắp xếp:\", LS_boolean)"
   ]
  },
  {
   "attachments": {},
   "cell_type": "markdown",
   "metadata": {},
   "source": [
    "##### ***Chú ý:** đối với List có phần tử là string, hàm `sort` báo lỗi nếu ngoài kiểu string ra List đó còn chứa kiểu dữ liệu khác.*\n",
    "VD:"
   ]
  },
  {
   "cell_type": "code",
   "execution_count": 21,
   "metadata": {},
   "outputs": [
    {
     "name": "stdout",
     "output_type": "stream",
     "text": [
      "List: ['a', 'b', 2]\n"
     ]
    }
   ],
   "source": [
    "LS = [\"a\", \"b\", 2]\n",
    "print(\"List:\",LS)"
   ]
  },
  {
   "cell_type": "code",
   "execution_count": 22,
   "metadata": {},
   "outputs": [
    {
     "ename": "TypeError",
     "evalue": "'<' not supported between instances of 'int' and 'str'",
     "output_type": "error",
     "traceback": [
      "\u001b[1;31m---------------------------------------------------------------------------\u001b[0m",
      "\u001b[1;31mTypeError\u001b[0m                                 Traceback (most recent call last)",
      "Cell \u001b[1;32mIn[22], line 1\u001b[0m\n\u001b[1;32m----> 1\u001b[0m LS\u001b[39m.\u001b[39;49msort()\n",
      "\u001b[1;31mTypeError\u001b[0m: '<' not supported between instances of 'int' and 'str'"
     ]
    }
   ],
   "source": [
    "LS.sort()"
   ]
  }
 ],
 "metadata": {
  "kernelspec": {
   "display_name": "Python 3",
   "language": "python",
   "name": "python3"
  },
  "language_info": {
   "codemirror_mode": {
    "name": "ipython",
    "version": 3
   },
   "file_extension": ".py",
   "mimetype": "text/x-python",
   "name": "python",
   "nbconvert_exporter": "python",
   "pygments_lexer": "ipython3",
   "version": "3.10.2"
  },
  "orig_nbformat": 4
 },
 "nbformat": 4,
 "nbformat_minor": 2
}
